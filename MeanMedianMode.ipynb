{
 "cells": [
  {
   "cell_type": "markdown",
   "metadata": {},
   "source": [
    "# Mean, Median, Mode, and introducing NumPy"
   ]
  },
  {
   "cell_type": "markdown",
   "metadata": {},
   "source": [
    "## Mean vs. Median"
   ]
  },
  {
   "cell_type": "markdown",
   "metadata": {},
   "source": [
    "Let's create some fake income data, centered around 27,000 with a normal distribution and standard deviation of 15,000, with 10,000 data points. (We'll discuss those terms more later, if you're not familiar with them.)\n",
    "\n",
    "Then, compute the mean (average) - it should be close to 27,000:"
   ]
  },
  {
   "cell_type": "code",
   "execution_count": 3,
   "metadata": {},
   "outputs": [
    {
     "data": {
      "text/plain": [
       "26922.690437904297"
      ]
     },
     "execution_count": 3,
     "metadata": {},
     "output_type": "execute_result"
    }
   ],
   "source": [
    "import numpy as np\n",
    "\n",
    "incomes = np.random.normal(27000, 15000, 10000)\n",
    "np.mean(incomes)"
   ]
  },
  {
   "cell_type": "markdown",
   "metadata": {},
   "source": [
    "We can segment the income data into 50 buckets, and plot it as a histogram:"
   ]
  },
  {
   "cell_type": "code",
   "execution_count": 5,
   "metadata": {},
   "outputs": [
    {
     "data": {
      "image/png": "[encoded data removed]",
      "text/plain": [
       "<Figure size 640x480 with 1 Axes>"
      ]
     },
     "metadata": {},
     "output_type": "display_data"
    }
   ],
   "source": [
    "%matplotlib inline\n",
    "import matplotlib.pyplot as plt\n",
    "plt.hist(incomes, 50)\n",
    "plt.show()"
   ]
  },
  {
   "cell_type": "markdown",
   "metadata": {},
   "source": [
    "Now compute the median - since we have a nice, even distribution it too should be close to 27,000:"
   ]
  },
  {
   "cell_type": "code",
   "execution_count": 6,
   "metadata": {},
   "outputs": [
    {
     "data": {
      "text/plain": [
       "26677.601900974892"
      ]
     },
     "execution_count": 6,
     "metadata": {},
     "output_type": "execute_result"
    }
   ],
   "source": [
    "np.median(incomes)"
   ]
  },
  {
   "cell_type": "markdown",
   "metadata": {},
   "source": [
    "Now we'll add Jeff Bezos into the mix. Darn income inequality!"
   ]
  },
  {
   "cell_type": "code",
   "execution_count": 7,
   "metadata": {},
   "outputs": [],
   "source": [
    "incomes = np.append(incomes, [1000000000])"
   ]
  },
  {
   "cell_type": "markdown",
   "metadata": {},
   "source": [
    "The median won't change much, but the mean does:"
   ]
  },
  {
   "cell_type": "code",
   "execution_count": 8,
   "metadata": {},
   "outputs": [
    {
     "data": {
      "text/plain": [
       "26678.761247816426"
      ]
     },
     "execution_count": 8,
     "metadata": {},
     "output_type": "execute_result"
    }
   ],
   "source": [
    "np.median(incomes)"
   ]
  },
  {
   "cell_type": "code",
   "execution_count": 9,
   "metadata": {},
   "outputs": [
    {
     "data": {
      "text/plain": [
       "126909.99943796052"
      ]
     },
     "execution_count": 9,
     "metadata": {},
     "output_type": "execute_result"
    }
   ],
   "source": [
    "np.mean(incomes)"
   ]
  },
  {
   "cell_type": "markdown",
   "metadata": {},
   "source": [
    "## Mode"
   ]
  },
  {
   "cell_type": "markdown",
   "metadata": {},
   "source": [
    "Next, let's generate some fake age data for 500 people:"
   ]
  },
  {
   "cell_type": "code",
   "execution_count": 10,
   "metadata": {},
   "outputs": [
    {
     "data": {
      "text/plain": [
       "array([65, 70, 85, 59, 31, 62, 47, 70, 79, 50, 39, 21, 70, 47, 26, 48, 73,\n",
       "       76, 20, 22, 55, 63, 27, 71, 62, 82, 87, 39, 56, 44, 65, 34, 83, 38,\n",
       "       41, 89, 21, 89, 56, 80, 45, 27, 33, 45, 89, 86, 77, 19, 73, 83, 77,\n",
       "       87, 40, 36, 76, 55, 72, 52, 60, 74, 25, 25, 54, 55, 20, 23, 69, 79,\n",
       "       56, 89, 67, 44, 60, 21, 81, 39, 78, 80, 19, 51, 70, 51, 49, 68, 33,\n",
       "       45, 60, 45, 71, 34, 73, 51, 79, 50, 27, 82, 59, 36, 20, 72, 82, 76,\n",
       "       77, 73, 46, 68, 45, 87, 53, 51, 42, 22, 48, 33, 47, 72, 85, 34, 42,\n",
       "       28, 42, 39, 44, 22, 39, 66, 51, 61, 39, 34, 30, 73, 68, 23, 32, 39,\n",
       "       77, 60, 26, 59, 45, 88, 78, 26, 52, 27, 64, 42, 58, 78, 31, 85, 46,\n",
       "       19, 67, 25, 42, 30, 31, 31, 35, 57, 46, 65, 72, 85, 19, 24, 54, 88,\n",
       "       79, 48, 22, 81, 65, 52, 32, 58, 87, 81, 88, 33, 61, 51, 33, 53, 86,\n",
       "       41, 89, 51, 87, 21, 51, 82, 75, 86, 72, 42, 87, 57, 26, 64, 72, 68,\n",
       "       79, 70, 55, 46, 72, 55, 81, 54, 36, 76, 59, 63, 88, 77, 58, 36, 52,\n",
       "       46, 64, 62, 36, 33, 23, 20, 80, 82, 81, 74, 72, 58, 26, 41, 57, 58,\n",
       "       76, 78, 80, 26, 83, 79, 85, 47, 80, 28, 59, 38, 61, 32, 76, 75, 52,\n",
       "       39, 22, 44, 80, 72, 86, 62, 47, 68, 26, 29, 71, 42, 55, 42, 23, 72,\n",
       "       61, 84, 88, 75, 44, 32, 28, 36, 52, 54, 87, 74, 84, 62, 55, 78, 55,\n",
       "       84, 75, 82, 60, 47, 50, 71, 57, 31, 58, 18, 70, 65, 44, 36, 59, 74,\n",
       "       41, 49, 74, 75, 75, 73, 42, 74, 37, 49, 86, 75, 26, 23, 61, 48, 38,\n",
       "       22, 51, 40, 34, 55, 76, 87, 27, 50, 18, 75, 26, 80, 24, 64, 53, 42,\n",
       "       86, 52, 76, 51, 29, 54, 46, 84, 60, 28, 60, 82, 34, 33, 85, 55, 28,\n",
       "       87, 55, 47, 74, 61, 73, 86, 23, 33, 59, 85, 32, 33, 26, 71, 71, 70,\n",
       "       72, 88, 40, 71, 79, 56, 66, 67, 77, 82, 60, 86, 69, 60, 32, 47, 28,\n",
       "       57, 88, 20, 62, 57, 52, 62, 57, 53, 82, 49, 81, 27, 81, 85, 44, 29,\n",
       "       42, 84, 86, 77, 75, 24, 34, 35, 19, 28, 80, 84, 38, 46, 59, 72, 22,\n",
       "       53, 86, 65, 71, 34, 23, 53, 25, 22, 49, 68, 43, 86, 41, 20, 53, 66,\n",
       "       69, 45, 89, 73, 50, 22, 18, 69, 62, 89, 26, 53, 73, 44, 75, 23, 46,\n",
       "       69, 40, 89, 50, 49, 76, 71, 28, 55, 89, 41, 75, 36, 27, 45, 27, 85,\n",
       "       40, 88, 47, 55, 48, 23, 49, 88, 23, 39, 29, 25, 75, 49, 32, 88, 82,\n",
       "       68, 31, 58, 88, 20, 77, 34])"
      ]
     },
     "execution_count": 10,
     "metadata": {},
     "output_type": "execute_result"
    }
   ],
   "source": [
    "ages = np.random.randint(18, high=90, size=500)\n",
    "ages"
   ]
  },
  {
   "cell_type": "code",
   "execution_count": 11,
   "metadata": {},
   "outputs": [
    {
     "name": "stderr",
     "output_type": "stream",
     "text": [
      "C:\\Users\\sabde\\AppData\\Local\\Temp\\ipykernel_32632\\2994774060.py:2: FutureWarning: Unlike other reduction functions (e.g. `skew`, `kurtosis`), the default behavior of `mode` typically preserves the axis it acts along. In SciPy 1.11.0, this behavior will change: the default value of `keepdims` will become False, the `axis` over which the statistic is taken will be eliminated, and the value None will no longer be accepted. Set `keepdims` to True or False to avoid this warning.\n",
      "  stats.mode(ages)\n"
     ]
    },
    {
     "data": {
      "text/plain": [
       "ModeResult(mode=array([55]), count=array([13]))"
      ]
     },
     "execution_count": 11,
     "metadata": {},
     "output_type": "execute_result"
    }
   ],
   "source": [
    "from scipy import stats\n",
    "stats.mode(ages)"
   ]
  },
  {
   "cell_type": "code",
   "execution_count": null,
   "metadata": {},
   "outputs": [],
   "source": []
  }
 ],
 "metadata": {
  "kernelspec": {
   "display_name": "Python 3 (ipykernel)",
   "language": "python",
   "name": "python3"
  },
  "language_info": {
   "codemirror_mode": {
    "name": "ipython",
    "version": 3
   },
   "file_extension": ".py",
   "mimetype": "text/x-python",
   "name": "python",
   "nbconvert_exporter": "python",
   "pygments_lexer": "ipython3",
   "version": "3.11.4"
  }
 },
 "nbformat": 4,
 "nbformat_minor": 1
}
